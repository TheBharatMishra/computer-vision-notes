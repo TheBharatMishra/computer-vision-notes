{
 "cells": [
  {
   "cell_type": "markdown",
   "metadata": {},
   "source": [
    "# Object Counting with CNNs\n",
    "Determine the instances of classes of objects (shapes) using simple pytorch model(CNN feature to fully extracted layer).\n",
    "\n",
    "Gain intution for deep learning computer vision tasks with a toy example that can be trained quickly and altered easily.\n",
    "\n",
    "Libraries used : pytorch, torchvision, pytorch_lightning, torchmetrics ,cv2"
   ]
  },
  {
   "cell_type": "code",
   "execution_count": null,
   "metadata": {},
   "outputs": [],
   "source": []
  }
 ],
 "metadata": {
  "language_info": {
   "name": "python"
  }
 },
 "nbformat": 4,
 "nbformat_minor": 2
}
